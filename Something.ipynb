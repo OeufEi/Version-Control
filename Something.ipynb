{
 "cells": [
  {
   "cell_type": "code",
   "execution_count": 5,
   "id": "3d27edd6-7b95-4084-8bef-7e823a172c3b",
   "metadata": {},
   "outputs": [
    {
     "name": "stdin",
     "output_type": "stream",
     "text": [
      "Enter your name:  Jason\n",
      "Enter your favorite color:  Red\n"
     ]
    },
    {
     "name": "stdout",
     "output_type": "stream",
     "text": [
      "Hello, your name is Jason. Your favorite color has 3 letters in it!\n"
     ]
    }
   ],
   "source": [
    "name = input(\"Enter your name: \")\n",
    "color = input(\"Enter your favorite color: \")\n",
    "\n",
    "print(\"Hello, your name is \" + name + \". Your favorite color has\", len(color), \"letters in it!\")"
   ]
  },
  {
   "cell_type": "code",
   "execution_count": null,
   "id": "d5cef261-588e-44fe-8333-e0f85b4f7538",
   "metadata": {},
   "outputs": [],
   "source": []
  }
 ],
 "metadata": {
  "kernelspec": {
   "display_name": "Python 3 (ipykernel)",
   "language": "python",
   "name": "python3"
  },
  "language_info": {
   "codemirror_mode": {
    "name": "ipython",
    "version": 3
   },
   "file_extension": ".py",
   "mimetype": "text/x-python",
   "name": "python",
   "nbconvert_exporter": "python",
   "pygments_lexer": "ipython3",
   "version": "3.11.5"
  }
 },
 "nbformat": 4,
 "nbformat_minor": 5
}
